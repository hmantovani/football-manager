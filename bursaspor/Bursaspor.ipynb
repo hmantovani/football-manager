{
 "cells": [
  {
   "cell_type": "markdown",
   "metadata": {},
   "source": [
    "# Using Python to take Bursaspor back to the elite in Turkish football\n",
    "\n",
    "### Introduction\n",
    "\n",
    "Embark on a transformative expedition with Bursaspor, a team resolute to ascend from the third tier to the echelons of success in the footballing realm. This digital dossier marks the inception of our campaign, commencing in the 2023/24 season, with a resolute ambition to propel Bursaspor from its current third-tier standing to reclaiming the glory experienced in the illustrious 2010/11 Champions League campaign.\n",
    "\n",
    "This comprehensive notebook serves as a compass, navigating through the realms of Python-powered data analysis, unraveling the intricate tapestry of the transfer market and delving into the depths of Bursaspor's squad. Python's analytical prowess will be harnessed to discern strategic areas for enhancement and fortification. The focus extends beyond market dynamics to meticulously assess our squad's strengths and vulnerabilities.\n",
    "\n",
    "Join us on this odyssey, where algorithms and insights converge to chart a course for Bursaspor's resurgence in the footballing hierarchy.\n",
    "\n",
    "### Market Analysis\n",
    "- **Data-driven Insights:** Utilizing Python to analyze market trends, player values, and potential signings.\n",
    "- **Strategic Transfers:** Identifying key positions for improvement through insightful market assessment.\n",
    "- **Visual Aids:** Incorporating screenshots to illustrate potential signings and transfer strategies.\n",
    "\n",
    "### Squad Evaluation\n",
    "- **Data-Backed Assessment:** Analyzing the performance and attributes of Newcastle's squad players.\n",
    "- **Positional Analysis:** Identifying areas within the squad that require reinforcement or improvement.\n",
    "- **In-Game Journey:** Documenting Newcastle's journey with screenshots to track progress and strategic changes.\n",
    "\n",
    "### Market Assessment\n",
    "- **Evaluate Market Trends:** Analyze player values, market dynamics, and potential transfer targets.\n",
    "- **Strategic Signings:** Identify key positions requiring reinforcement or enhancement in the transfer market.\n",
    "- **Visualization:** Incorporate screenshots to highlight potential signings and market insights.\n",
    "\n",
    "### Squad Analysis\n",
    "- **Player Performance:** Scrutinizing player attributes, performance statistics, and potential areas for improvement.\n",
    "- **Positional Evaluation:** Identifying strengths and weaknesses within Newcastle's current squad.\n",
    "- **Progress Tracking:** Documenting Newcastle's journey with in-game screenshots to showcase developments and tactical shifts.\n",
    "\n",
    "## The club\n",
    "\n",
    "<div style=\"text-align:center;\">\n",
    "    <img src=\"Bursaspor_logo.PNG\" width=\"240\" height=\"262\">\n",
    "</div>\n",
    "\n",
    "**Bursaspor Kulübü Derneği**, commonly known as **Bursaspor**, is a Turkish sports club located in the city of Bursa. Formed in 1963, the club colours are green and white, with home kits usually featuring both colours in a striped pattern.\n",
    "\n",
    "In the 2009–10 season, the club's men's football team won its first Süper Lig title after finishing with 75 points, one point ahead of the runners-up Fenerbahçe. Bursaspor became the second club outside Istanbul to win a Süper Lig title, joining Trabzonspor who won the first of its six titles in 1975–76. The club has also won the Turkish Cup once and the Prime Minister's Cup twice, as well as the First League twice. The club's first, and most successful foray into European competition came in the 1974–75 European Cup Winners' Cup when it reached the quarter-finals. Bursaspor also took part in the 1986–87, losing in the first round, as well as the 1995 UEFA Intertoto Cup, where it lost in the quarter-finals.\n",
    "\n",
    "Bursaspor plays its home matches at Centennial Atatürk Stadium. Built in 2015, the stadium currently seats 43,361 spectators. The field measures 68 by 105 meters, and is covered with natural grass.\n",
    "\n",
    "<div style=\"text-align:center;\">\n",
    "    <img src=\"Bursaspor_stadium.PNG\">\n",
    "</div>"
   ]
  },
  {
   "cell_type": "markdown",
   "metadata": {},
   "source": [
    "# Season 2023/24"
   ]
  },
  {
   "cell_type": "code",
   "execution_count": null,
   "metadata": {},
   "outputs": [],
   "source": [
    "# "
   ]
  }
 ],
 "metadata": {
  "language_info": {
   "name": "python"
  }
 },
 "nbformat": 4,
 "nbformat_minor": 2
}
